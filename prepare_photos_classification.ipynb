{
 "cells": [
  {
   "cell_type": "markdown",
   "metadata": {},
   "source": [
    "#input neural network"
   ]
  },
  {
   "cell_type": "code",
   "execution_count": 1,
   "metadata": {},
   "outputs": [
    {
     "name": "stdout",
     "output_type": "stream",
     "text": [
      "current working directory:  C:\\Users\\Langsdorf\n",
      "Should the current working directory change? (y/n): y\n",
      "Please enter the path which should be used: C:\\Users\\Langsdorf\\Desktop\\Data Science ML\\Projectclassifier\n",
      "current working directory:  C:\\Users\\Langsdorf\\Desktop\\Data Science ML\\Projectclassifier\n"
     ]
    }
   ],
   "source": [
    "#a project folder must be created with a special folder structure\n",
    "#as documented\n",
    "\n",
    "import os #operating system\n",
    "import shutil #copy files\n",
    "from PIL import Image\n",
    "\n",
    "cwd = os.getcwd()\n",
    "\n",
    "print('current working directory: ',cwd)\n",
    "answer = input('Should the current working directory change? (y/n): ')\n",
    "\n",
    "if answer == 'y':\n",
    "    cwd = input('Please enter the path which should be used: ')\n",
    "    os.chdir(cwd)\n",
    "    print('current working directory: ', cwd)\n",
    "else:\n",
    "    print('working directory not changed')\n",
    "    \n",
    "    "
   ]
  },
  {
   "cell_type": "code",
   "execution_count": 6,
   "metadata": {},
   "outputs": [
    {
     "name": "stdout",
     "output_type": "stream",
     "text": [
      "which size the images should have as the network input?: 224\n"
     ]
    }
   ],
   "source": [
    "#at first: copy the originalphotos as they are in the new folder\n",
    "#at a seconde step: find the image with the greatest height and the\n",
    "#greatest width. Then converte every pictur to a square using the greatest\n",
    "#height or width (depends on which is greater)\n",
    "#third: converte the original photos to a size whichcould be used by the\n",
    "#network (224 pixels in this code)\n",
    "#fourth: If necessary create more photos for the training of the network\n",
    "\n",
    "#os.listdir -> creates a list with all files in the directory\n",
    "src_files = os.listdir(cwd + '\\originalphotos')\n",
    "#test\n",
    "#print(cwd + '\\originalphotos')\n",
    "\n",
    "#copy the files in originalphotos to originalphotosnetwork\n",
    "for file_name in src_files:\n",
    "    full_file_name = os.path.join(cwd + '\\originalphotos', file_name)\n",
    "    shutil.copy(full_file_name, cwd + '\\originalphotosnetwork')\n",
    "\n",
    "#test\n",
    "#dst_files = os.listdir(cwd + '\\originalphotosnetwork')\n",
    "#print(dst_files)\n",
    "\n",
    "#biggest height/ width\n",
    "dst_directory = cwd + '\\originalphotosnetwork'\n",
    "dst_files = os.listdir(cwd + '\\originalphotosnetwork')\n",
    "max_width = 0\n",
    "max_height = 0\n",
    "for f in dst_files:\n",
    "    img = Image.open(dst_directory + '\\\\' + f, 'r')\n",
    "    width, height = img.size\n",
    "    if width > max_width:\n",
    "        max_width = width\n",
    "    if height > max_height:\n",
    "        max_height = height\n",
    "    if height == 0 or width == 0:\n",
    "        print('width or height = 0 -> no processing possible')\n",
    "    if max_height < 224 or max_width < 224:\n",
    "        print('height or width of an image are less than 224 pixels -> no processing possible')\n",
    "#test    \n",
    "#print(max_width, ', ', max_height)\n",
    "\n",
    "max_pixel = max([max_width, max_height])\n",
    "#test\n",
    "#print(max_pixel)\n",
    "\n",
    "#converte all photos to squares with the max out of height and width for\n",
    "#pixels\n",
    "\n",
    "new_size = max_pixel, max_pixel\n",
    "for f in dst_files:\n",
    "    old_img = Image.open(dst_directory + '\\\\' + f, 'r')\n",
    "    old_size = old_img.size\n",
    "    new_img = Image.new('RGB', new_size)\n",
    "    #the tuple in paste defines the upper left corner. to place the image in\n",
    "    #the center use the calculation\n",
    "    position_width = int((new_size[0] - old_size[0]) / 2)\n",
    "    position_height = int((new_size[1] - old_size[1]) / 2)\n",
    "    new_img.paste(old_img, (position_width, position_height))\n",
    "    #test\n",
    "    #new_img.show()\n",
    "    new_img.save(dst_directory + '\\\\' + f)\n",
    "\n",
    "#now give the images the size for the network\n",
    "network_img_size = int(input('which size the images should have as the network input?: '))\n",
    "for f in dst_files:\n",
    "    old_img = Image.open(dst_directory + '\\\\' + f, 'r')\n",
    "    #ANTIALIAS should be a great downsizing filter\n",
    "    new_img = old_img.resize((network_img_size, network_img_size), Image.ANTIALIAS)\n",
    "    #test\n",
    "    new_img.show()\n",
    "    new_img.save(dst_directory + '\\\\' + f)"
   ]
  },
  {
   "cell_type": "code",
   "execution_count": null,
   "metadata": {
    "collapsed": true
   },
   "outputs": [],
   "source": []
  }
 ],
 "metadata": {
  "kernelspec": {
   "display_name": "Python 3",
   "language": "python",
   "name": "python3"
  },
  "language_info": {
   "codemirror_mode": {
    "name": "ipython",
    "version": 3
   },
   "file_extension": ".py",
   "mimetype": "text/x-python",
   "name": "python",
   "nbconvert_exporter": "python",
   "pygments_lexer": "ipython3",
   "version": "3.6.3"
  }
 },
 "nbformat": 4,
 "nbformat_minor": 2
}
